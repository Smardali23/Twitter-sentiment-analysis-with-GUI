{
  "cells": [
    {
      "cell_type": "code",
      "execution_count": 2,
      "metadata": {
        "_cell_guid": "b1076dfc-b9ad-4769-8c92-a6c4dae69d19",
        "_uuid": "8f2839f25d086af736a60e9eeb907d3b93b6e0e5",
        "execution": {
          "iopub.execute_input": "2024-04-27T23:46:01.375992Z",
          "iopub.status.busy": "2024-04-27T23:46:01.375525Z",
          "iopub.status.idle": "2024-04-27T23:46:02.348013Z",
          "shell.execute_reply": "2024-04-27T23:46:02.346870Z",
          "shell.execute_reply.started": "2024-04-27T23:46:01.375958Z"
        },
        "id": "unlHQ1jdoNOC",
        "trusted": true
      },
      "outputs": [],
      "source": [
        "import pandas as pd"
      ]
    },
    {
      "cell_type": "markdown",
      "metadata": {
        "id": "ygiopK9qoNOD"
      },
      "source": [
        "- Lod the training data"
      ]
    },
    {
      "cell_type": "code",
      "execution_count": 3,
      "metadata": {
        "execution": {
          "iopub.execute_input": "2024-04-27T23:46:02.350473Z",
          "iopub.status.busy": "2024-04-27T23:46:02.350036Z",
          "iopub.status.idle": "2024-04-27T23:46:02.748446Z",
          "shell.execute_reply": "2024-04-27T23:46:02.747574Z",
          "shell.execute_reply.started": "2024-04-27T23:46:02.350444Z"
        },
        "id": "BZjcLufToNOE",
        "trusted": true
      },
      "outputs": [],
      "source": [
        "training=pd.read_csv(r\"C:\\Anas\\ITM Project\\twitter\\twitter_training.csv\")\n",
        "test=pd.read_csv(r\"C:\\Anas\\ITM Project\\twitter\\twitter_validation.csv\")"
      ]
    },
    {
      "cell_type": "code",
      "execution_count": 4,
      "metadata": {
        "colab": {
          "base_uri": "https://localhost:8080/",
          "height": 423
        },
        "execution": {
          "iopub.execute_input": "2024-04-27T23:46:02.750394Z",
          "iopub.status.busy": "2024-04-27T23:46:02.749940Z",
          "iopub.status.idle": "2024-04-27T23:46:02.777897Z",
          "shell.execute_reply": "2024-04-27T23:46:02.776937Z",
          "shell.execute_reply.started": "2024-04-27T23:46:02.750350Z"
        },
        "id": "N_gsXesqoNOE",
        "outputId": "b09c99fc-8fc6-46e9-e82c-fbc53b641423",
        "trusted": true
      },
      "outputs": [
        {
          "data": {
            "text/html": [
              "<div>\n",
              "<style scoped>\n",
              "    .dataframe tbody tr th:only-of-type {\n",
              "        vertical-align: middle;\n",
              "    }\n",
              "\n",
              "    .dataframe tbody tr th {\n",
              "        vertical-align: top;\n",
              "    }\n",
              "\n",
              "    .dataframe thead th {\n",
              "        text-align: right;\n",
              "    }\n",
              "</style>\n",
              "<table border=\"1\" class=\"dataframe\">\n",
              "  <thead>\n",
              "    <tr style=\"text-align: right;\">\n",
              "      <th></th>\n",
              "      <th>2401</th>\n",
              "      <th>Borderlands</th>\n",
              "      <th>Positive</th>\n",
              "      <th>im getting on borderlands and i will murder you all ,</th>\n",
              "    </tr>\n",
              "  </thead>\n",
              "  <tbody>\n",
              "    <tr>\n",
              "      <th>0</th>\n",
              "      <td>2401</td>\n",
              "      <td>Borderlands</td>\n",
              "      <td>Positive</td>\n",
              "      <td>I am coming to the borders and I will kill you...</td>\n",
              "    </tr>\n",
              "    <tr>\n",
              "      <th>1</th>\n",
              "      <td>2401</td>\n",
              "      <td>Borderlands</td>\n",
              "      <td>Positive</td>\n",
              "      <td>im getting on borderlands and i will kill you ...</td>\n",
              "    </tr>\n",
              "    <tr>\n",
              "      <th>2</th>\n",
              "      <td>2401</td>\n",
              "      <td>Borderlands</td>\n",
              "      <td>Positive</td>\n",
              "      <td>im coming on borderlands and i will murder you...</td>\n",
              "    </tr>\n",
              "    <tr>\n",
              "      <th>3</th>\n",
              "      <td>2401</td>\n",
              "      <td>Borderlands</td>\n",
              "      <td>Positive</td>\n",
              "      <td>im getting on borderlands 2 and i will murder ...</td>\n",
              "    </tr>\n",
              "    <tr>\n",
              "      <th>4</th>\n",
              "      <td>2401</td>\n",
              "      <td>Borderlands</td>\n",
              "      <td>Positive</td>\n",
              "      <td>im getting into borderlands and i can murder y...</td>\n",
              "    </tr>\n",
              "    <tr>\n",
              "      <th>...</th>\n",
              "      <td>...</td>\n",
              "      <td>...</td>\n",
              "      <td>...</td>\n",
              "      <td>...</td>\n",
              "    </tr>\n",
              "    <tr>\n",
              "      <th>74676</th>\n",
              "      <td>9200</td>\n",
              "      <td>Nvidia</td>\n",
              "      <td>Positive</td>\n",
              "      <td>Just realized that the Windows partition of my...</td>\n",
              "    </tr>\n",
              "    <tr>\n",
              "      <th>74677</th>\n",
              "      <td>9200</td>\n",
              "      <td>Nvidia</td>\n",
              "      <td>Positive</td>\n",
              "      <td>Just realized that my Mac window partition is ...</td>\n",
              "    </tr>\n",
              "    <tr>\n",
              "      <th>74678</th>\n",
              "      <td>9200</td>\n",
              "      <td>Nvidia</td>\n",
              "      <td>Positive</td>\n",
              "      <td>Just realized the windows partition of my Mac ...</td>\n",
              "    </tr>\n",
              "    <tr>\n",
              "      <th>74679</th>\n",
              "      <td>9200</td>\n",
              "      <td>Nvidia</td>\n",
              "      <td>Positive</td>\n",
              "      <td>Just realized between the windows partition of...</td>\n",
              "    </tr>\n",
              "    <tr>\n",
              "      <th>74680</th>\n",
              "      <td>9200</td>\n",
              "      <td>Nvidia</td>\n",
              "      <td>Positive</td>\n",
              "      <td>Just like the windows partition of my Mac is l...</td>\n",
              "    </tr>\n",
              "  </tbody>\n",
              "</table>\n",
              "<p>74681 rows × 4 columns</p>\n",
              "</div>"
            ],
            "text/plain": [
              "       2401  Borderlands  Positive  \\\n",
              "0      2401  Borderlands  Positive   \n",
              "1      2401  Borderlands  Positive   \n",
              "2      2401  Borderlands  Positive   \n",
              "3      2401  Borderlands  Positive   \n",
              "4      2401  Borderlands  Positive   \n",
              "...     ...          ...       ...   \n",
              "74676  9200       Nvidia  Positive   \n",
              "74677  9200       Nvidia  Positive   \n",
              "74678  9200       Nvidia  Positive   \n",
              "74679  9200       Nvidia  Positive   \n",
              "74680  9200       Nvidia  Positive   \n",
              "\n",
              "      im getting on borderlands and i will murder you all ,  \n",
              "0      I am coming to the borders and I will kill you...     \n",
              "1      im getting on borderlands and i will kill you ...     \n",
              "2      im coming on borderlands and i will murder you...     \n",
              "3      im getting on borderlands 2 and i will murder ...     \n",
              "4      im getting into borderlands and i can murder y...     \n",
              "...                                                  ...     \n",
              "74676  Just realized that the Windows partition of my...     \n",
              "74677  Just realized that my Mac window partition is ...     \n",
              "74678  Just realized the windows partition of my Mac ...     \n",
              "74679  Just realized between the windows partition of...     \n",
              "74680  Just like the windows partition of my Mac is l...     \n",
              "\n",
              "[74681 rows x 4 columns]"
            ]
          },
          "execution_count": 4,
          "metadata": {},
          "output_type": "execute_result"
        }
      ],
      "source": [
        "training"
      ]
    },
    {
      "cell_type": "markdown",
      "metadata": {
        "id": "8Qlkl44ToNOE"
      },
      "source": [
        "- load the testing data"
      ]
    },
    {
      "cell_type": "code",
      "execution_count": 5,
      "metadata": {
        "colab": {
          "base_uri": "https://localhost:8080/",
          "height": 441
        },
        "execution": {
          "iopub.execute_input": "2024-04-27T23:46:02.780881Z",
          "iopub.status.busy": "2024-04-27T23:46:02.780560Z",
          "iopub.status.idle": "2024-04-27T23:46:02.793430Z",
          "shell.execute_reply": "2024-04-27T23:46:02.792454Z",
          "shell.execute_reply.started": "2024-04-27T23:46:02.780854Z"
        },
        "id": "1AgWv6h8oNOF",
        "outputId": "63452abd-25f1-414e-ed05-395fe0e52edb",
        "trusted": true
      },
      "outputs": [
        {
          "data": {
            "text/html": [
              "<div>\n",
              "<style scoped>\n",
              "    .dataframe tbody tr th:only-of-type {\n",
              "        vertical-align: middle;\n",
              "    }\n",
              "\n",
              "    .dataframe tbody tr th {\n",
              "        vertical-align: top;\n",
              "    }\n",
              "\n",
              "    .dataframe thead th {\n",
              "        text-align: right;\n",
              "    }\n",
              "</style>\n",
              "<table border=\"1\" class=\"dataframe\">\n",
              "  <thead>\n",
              "    <tr style=\"text-align: right;\">\n",
              "      <th></th>\n",
              "      <th>3364</th>\n",
              "      <th>Facebook</th>\n",
              "      <th>Irrelevant</th>\n",
              "      <th>I mentioned on Facebook that I was struggling for motivation to go for a run the other day, which has been translated by Tom’s great auntie as ‘Hayley can’t get out of bed’ and told to his grandma, who now thinks I’m a lazy, terrible person 🤣</th>\n",
              "    </tr>\n",
              "  </thead>\n",
              "  <tbody>\n",
              "    <tr>\n",
              "      <th>0</th>\n",
              "      <td>352</td>\n",
              "      <td>Amazon</td>\n",
              "      <td>Neutral</td>\n",
              "      <td>BBC News - Amazon boss Jeff Bezos rejects clai...</td>\n",
              "    </tr>\n",
              "    <tr>\n",
              "      <th>1</th>\n",
              "      <td>8312</td>\n",
              "      <td>Microsoft</td>\n",
              "      <td>Negative</td>\n",
              "      <td>@Microsoft Why do I pay for WORD when it funct...</td>\n",
              "    </tr>\n",
              "    <tr>\n",
              "      <th>2</th>\n",
              "      <td>4371</td>\n",
              "      <td>CS-GO</td>\n",
              "      <td>Negative</td>\n",
              "      <td>CSGO matchmaking is so full of closet hacking,...</td>\n",
              "    </tr>\n",
              "    <tr>\n",
              "      <th>3</th>\n",
              "      <td>4433</td>\n",
              "      <td>Google</td>\n",
              "      <td>Neutral</td>\n",
              "      <td>Now the President is slapping Americans in the...</td>\n",
              "    </tr>\n",
              "    <tr>\n",
              "      <th>4</th>\n",
              "      <td>6273</td>\n",
              "      <td>FIFA</td>\n",
              "      <td>Negative</td>\n",
              "      <td>Hi @EAHelp I’ve had Madeleine McCann in my cel...</td>\n",
              "    </tr>\n",
              "    <tr>\n",
              "      <th>...</th>\n",
              "      <td>...</td>\n",
              "      <td>...</td>\n",
              "      <td>...</td>\n",
              "      <td>...</td>\n",
              "    </tr>\n",
              "    <tr>\n",
              "      <th>994</th>\n",
              "      <td>4891</td>\n",
              "      <td>GrandTheftAuto(GTA)</td>\n",
              "      <td>Irrelevant</td>\n",
              "      <td>⭐️ Toronto is the arts and culture capital of ...</td>\n",
              "    </tr>\n",
              "    <tr>\n",
              "      <th>995</th>\n",
              "      <td>4359</td>\n",
              "      <td>CS-GO</td>\n",
              "      <td>Irrelevant</td>\n",
              "      <td>tHIS IS ACTUALLY A GOOD MOVE TOT BRING MORE VI...</td>\n",
              "    </tr>\n",
              "    <tr>\n",
              "      <th>996</th>\n",
              "      <td>2652</td>\n",
              "      <td>Borderlands</td>\n",
              "      <td>Positive</td>\n",
              "      <td>Today sucked so it’s time to drink wine n play...</td>\n",
              "    </tr>\n",
              "    <tr>\n",
              "      <th>997</th>\n",
              "      <td>8069</td>\n",
              "      <td>Microsoft</td>\n",
              "      <td>Positive</td>\n",
              "      <td>Bought a fraction of Microsoft today. Small wins.</td>\n",
              "    </tr>\n",
              "    <tr>\n",
              "      <th>998</th>\n",
              "      <td>6960</td>\n",
              "      <td>johnson&amp;johnson</td>\n",
              "      <td>Neutral</td>\n",
              "      <td>Johnson &amp; Johnson to stop selling talc baby po...</td>\n",
              "    </tr>\n",
              "  </tbody>\n",
              "</table>\n",
              "<p>999 rows × 4 columns</p>\n",
              "</div>"
            ],
            "text/plain": [
              "     3364             Facebook  Irrelevant  \\\n",
              "0     352               Amazon     Neutral   \n",
              "1    8312            Microsoft    Negative   \n",
              "2    4371                CS-GO    Negative   \n",
              "3    4433               Google     Neutral   \n",
              "4    6273                 FIFA    Negative   \n",
              "..    ...                  ...         ...   \n",
              "994  4891  GrandTheftAuto(GTA)  Irrelevant   \n",
              "995  4359                CS-GO  Irrelevant   \n",
              "996  2652          Borderlands    Positive   \n",
              "997  8069            Microsoft    Positive   \n",
              "998  6960      johnson&johnson     Neutral   \n",
              "\n",
              "    I mentioned on Facebook that I was struggling for motivation to go for a run the other day, which has been translated by Tom’s great auntie as ‘Hayley can’t get out of bed’ and told to his grandma, who now thinks I’m a lazy, terrible person 🤣  \n",
              "0    BBC News - Amazon boss Jeff Bezos rejects clai...                                                                                                                                                                                                  \n",
              "1    @Microsoft Why do I pay for WORD when it funct...                                                                                                                                                                                                  \n",
              "2    CSGO matchmaking is so full of closet hacking,...                                                                                                                                                                                                  \n",
              "3    Now the President is slapping Americans in the...                                                                                                                                                                                                  \n",
              "4    Hi @EAHelp I’ve had Madeleine McCann in my cel...                                                                                                                                                                                                  \n",
              "..                                                 ...                                                                                                                                                                                                  \n",
              "994  ⭐️ Toronto is the arts and culture capital of ...                                                                                                                                                                                                  \n",
              "995  tHIS IS ACTUALLY A GOOD MOVE TOT BRING MORE VI...                                                                                                                                                                                                  \n",
              "996  Today sucked so it’s time to drink wine n play...                                                                                                                                                                                                  \n",
              "997  Bought a fraction of Microsoft today. Small wins.                                                                                                                                                                                                  \n",
              "998  Johnson & Johnson to stop selling talc baby po...                                                                                                                                                                                                  \n",
              "\n",
              "[999 rows x 4 columns]"
            ]
          },
          "execution_count": 5,
          "metadata": {},
          "output_type": "execute_result"
        }
      ],
      "source": [
        "test"
      ]
    },
    {
      "cell_type": "markdown",
      "metadata": {
        "id": "6gnmJmTnoNOF"
      },
      "source": [
        "- Add headers for the columns in each dataframe:"
      ]
    },
    {
      "cell_type": "code",
      "execution_count": 6,
      "metadata": {
        "execution": {
          "iopub.execute_input": "2024-04-27T23:46:02.795104Z",
          "iopub.status.busy": "2024-04-27T23:46:02.794767Z",
          "iopub.status.idle": "2024-04-27T23:46:02.803561Z",
          "shell.execute_reply": "2024-04-27T23:46:02.802594Z",
          "shell.execute_reply.started": "2024-04-27T23:46:02.795077Z"
        },
        "id": "lcagjg39oNOF",
        "trusted": true
      },
      "outputs": [],
      "source": [
        "test.columns = ['Header1', 'company','labels','text']\n",
        "training.columns = ['Header1', 'company','labels','text']"
      ]
    },
    {
      "cell_type": "markdown",
      "metadata": {
        "id": "7pPUhFq2oNOF"
      },
      "source": [
        "- Delete unneeded columns"
      ]
    },
    {
      "cell_type": "code",
      "execution_count": 7,
      "metadata": {
        "execution": {
          "iopub.execute_input": "2024-04-27T23:46:02.821990Z",
          "iopub.status.busy": "2024-04-27T23:46:02.821687Z",
          "iopub.status.idle": "2024-04-27T23:46:02.834214Z",
          "shell.execute_reply": "2024-04-27T23:46:02.833146Z",
          "shell.execute_reply.started": "2024-04-27T23:46:02.821964Z"
        },
        "id": "9HjI5g7UoNOF",
        "trusted": true
      },
      "outputs": [],
      "source": [
        "training.drop(columns=[\"Header1\",\"company\"],inplace=True)\n",
        "test.drop(columns=[\"Header1\",\"company\"],inplace=True)"
      ]
    },
    {
      "cell_type": "code",
      "execution_count": 8,
      "metadata": {
        "colab": {
          "base_uri": "https://localhost:8080/",
          "height": 206
        },
        "execution": {
          "iopub.execute_input": "2024-04-27T23:46:02.835608Z",
          "iopub.status.busy": "2024-04-27T23:46:02.835339Z",
          "iopub.status.idle": "2024-04-27T23:46:02.851028Z",
          "shell.execute_reply": "2024-04-27T23:46:02.849895Z",
          "shell.execute_reply.started": "2024-04-27T23:46:02.835584Z"
        },
        "id": "XzcdRyiqoNOG",
        "outputId": "5fb37b8e-880a-420e-e4a9-61a0297e7645",
        "trusted": true
      },
      "outputs": [
        {
          "data": {
            "text/html": [
              "<div>\n",
              "<style scoped>\n",
              "    .dataframe tbody tr th:only-of-type {\n",
              "        vertical-align: middle;\n",
              "    }\n",
              "\n",
              "    .dataframe tbody tr th {\n",
              "        vertical-align: top;\n",
              "    }\n",
              "\n",
              "    .dataframe thead th {\n",
              "        text-align: right;\n",
              "    }\n",
              "</style>\n",
              "<table border=\"1\" class=\"dataframe\">\n",
              "  <thead>\n",
              "    <tr style=\"text-align: right;\">\n",
              "      <th></th>\n",
              "      <th>labels</th>\n",
              "      <th>text</th>\n",
              "    </tr>\n",
              "  </thead>\n",
              "  <tbody>\n",
              "    <tr>\n",
              "      <th>0</th>\n",
              "      <td>Positive</td>\n",
              "      <td>I am coming to the borders and I will kill you...</td>\n",
              "    </tr>\n",
              "    <tr>\n",
              "      <th>1</th>\n",
              "      <td>Positive</td>\n",
              "      <td>im getting on borderlands and i will kill you ...</td>\n",
              "    </tr>\n",
              "    <tr>\n",
              "      <th>2</th>\n",
              "      <td>Positive</td>\n",
              "      <td>im coming on borderlands and i will murder you...</td>\n",
              "    </tr>\n",
              "    <tr>\n",
              "      <th>3</th>\n",
              "      <td>Positive</td>\n",
              "      <td>im getting on borderlands 2 and i will murder ...</td>\n",
              "    </tr>\n",
              "    <tr>\n",
              "      <th>4</th>\n",
              "      <td>Positive</td>\n",
              "      <td>im getting into borderlands and i can murder y...</td>\n",
              "    </tr>\n",
              "  </tbody>\n",
              "</table>\n",
              "</div>"
            ],
            "text/plain": [
              "     labels                                               text\n",
              "0  Positive  I am coming to the borders and I will kill you...\n",
              "1  Positive  im getting on borderlands and i will kill you ...\n",
              "2  Positive  im coming on borderlands and i will murder you...\n",
              "3  Positive  im getting on borderlands 2 and i will murder ...\n",
              "4  Positive  im getting into borderlands and i can murder y..."
            ]
          },
          "execution_count": 8,
          "metadata": {},
          "output_type": "execute_result"
        }
      ],
      "source": [
        "training.head()"
      ]
    },
    {
      "cell_type": "code",
      "execution_count": 9,
      "metadata": {
        "colab": {
          "base_uri": "https://localhost:8080/",
          "height": 206
        },
        "execution": {
          "iopub.execute_input": "2024-04-27T23:46:02.852749Z",
          "iopub.status.busy": "2024-04-27T23:46:02.852315Z",
          "iopub.status.idle": "2024-04-27T23:46:02.866661Z",
          "shell.execute_reply": "2024-04-27T23:46:02.865583Z",
          "shell.execute_reply.started": "2024-04-27T23:46:02.852709Z"
        },
        "id": "tO4U1JTRoNOG",
        "outputId": "ce00a9f0-7fa9-4bb3-a358-435aab3604a0",
        "trusted": true
      },
      "outputs": [
        {
          "data": {
            "text/html": [
              "<div>\n",
              "<style scoped>\n",
              "    .dataframe tbody tr th:only-of-type {\n",
              "        vertical-align: middle;\n",
              "    }\n",
              "\n",
              "    .dataframe tbody tr th {\n",
              "        vertical-align: top;\n",
              "    }\n",
              "\n",
              "    .dataframe thead th {\n",
              "        text-align: right;\n",
              "    }\n",
              "</style>\n",
              "<table border=\"1\" class=\"dataframe\">\n",
              "  <thead>\n",
              "    <tr style=\"text-align: right;\">\n",
              "      <th></th>\n",
              "      <th>labels</th>\n",
              "      <th>text</th>\n",
              "    </tr>\n",
              "  </thead>\n",
              "  <tbody>\n",
              "    <tr>\n",
              "      <th>0</th>\n",
              "      <td>Neutral</td>\n",
              "      <td>BBC News - Amazon boss Jeff Bezos rejects clai...</td>\n",
              "    </tr>\n",
              "    <tr>\n",
              "      <th>1</th>\n",
              "      <td>Negative</td>\n",
              "      <td>@Microsoft Why do I pay for WORD when it funct...</td>\n",
              "    </tr>\n",
              "    <tr>\n",
              "      <th>2</th>\n",
              "      <td>Negative</td>\n",
              "      <td>CSGO matchmaking is so full of closet hacking,...</td>\n",
              "    </tr>\n",
              "    <tr>\n",
              "      <th>3</th>\n",
              "      <td>Neutral</td>\n",
              "      <td>Now the President is slapping Americans in the...</td>\n",
              "    </tr>\n",
              "    <tr>\n",
              "      <th>4</th>\n",
              "      <td>Negative</td>\n",
              "      <td>Hi @EAHelp I’ve had Madeleine McCann in my cel...</td>\n",
              "    </tr>\n",
              "  </tbody>\n",
              "</table>\n",
              "</div>"
            ],
            "text/plain": [
              "     labels                                               text\n",
              "0   Neutral  BBC News - Amazon boss Jeff Bezos rejects clai...\n",
              "1  Negative  @Microsoft Why do I pay for WORD when it funct...\n",
              "2  Negative  CSGO matchmaking is so full of closet hacking,...\n",
              "3   Neutral  Now the President is slapping Americans in the...\n",
              "4  Negative  Hi @EAHelp I’ve had Madeleine McCann in my cel..."
            ]
          },
          "execution_count": 9,
          "metadata": {},
          "output_type": "execute_result"
        }
      ],
      "source": [
        "test.head()"
      ]
    },
    {
      "cell_type": "markdown",
      "metadata": {
        "id": "n4tUbrSqoNOG"
      },
      "source": [
        "- Check for cleaning data"
      ]
    },
    {
      "cell_type": "code",
      "execution_count": 10,
      "metadata": {
        "colab": {
          "base_uri": "https://localhost:8080/"
        },
        "id": "dfR4ZUWvtK0f",
        "outputId": "7c379f94-5703-403e-d8f5-57054ead591e"
      },
      "outputs": [
        {
          "data": {
            "text/plain": [
              "labels      0\n",
              "text      686\n",
              "dtype: int64"
            ]
          },
          "execution_count": 10,
          "metadata": {},
          "output_type": "execute_result"
        }
      ],
      "source": [
        "training.isnull().sum()"
      ]
    },
    {
      "cell_type": "code",
      "execution_count": 11,
      "metadata": {
        "id": "lOS55Y5VtXpP"
      },
      "outputs": [],
      "source": [
        "training.dropna(inplace=True)"
      ]
    },
    {
      "cell_type": "code",
      "execution_count": 12,
      "metadata": {
        "colab": {
          "base_uri": "https://localhost:8080/"
        },
        "id": "891E59jvtofd",
        "outputId": "f9ceadb3-9941-489f-cb3c-c04d8620b839"
      },
      "outputs": [
        {
          "data": {
            "text/plain": [
              "4227"
            ]
          },
          "execution_count": 12,
          "metadata": {},
          "output_type": "execute_result"
        }
      ],
      "source": [
        "training.duplicated().sum()"
      ]
    },
    {
      "cell_type": "code",
      "execution_count": 13,
      "metadata": {
        "id": "WDYNHXWttoyA"
      },
      "outputs": [],
      "source": [
        "training.drop_duplicates(inplace=True)"
      ]
    },
    {
      "cell_type": "code",
      "execution_count": 14,
      "metadata": {
        "colab": {
          "base_uri": "https://localhost:8080/"
        },
        "id": "Y77His6pt69m",
        "outputId": "67564c75-f2e3-468c-f7fd-07328187a882"
      },
      "outputs": [
        {
          "data": {
            "text/plain": [
              "labels    0\n",
              "text      0\n",
              "dtype: int64"
            ]
          },
          "execution_count": 14,
          "metadata": {},
          "output_type": "execute_result"
        }
      ],
      "source": [
        "test.isna().sum()"
      ]
    },
    {
      "cell_type": "code",
      "execution_count": 15,
      "metadata": {
        "colab": {
          "base_uri": "https://localhost:8080/"
        },
        "id": "Ksq_8S9Ut-St",
        "outputId": "44c95742-9c32-4cce-b885-368ca73c8ec4"
      },
      "outputs": [
        {
          "data": {
            "text/plain": [
              "1"
            ]
          },
          "execution_count": 15,
          "metadata": {},
          "output_type": "execute_result"
        }
      ],
      "source": [
        "test.duplicated().sum()"
      ]
    },
    {
      "cell_type": "markdown",
      "metadata": {
        "id": "F1Wyge-ooNOG"
      },
      "source": [
        "- preprocessing the text n the data:"
      ]
    },
    {
      "cell_type": "code",
      "execution_count": 16,
      "metadata": {
        "colab": {
          "base_uri": "https://localhost:8080/"
        },
        "execution": {
          "iopub.execute_input": "2024-04-27T23:46:03.172398Z",
          "iopub.status.busy": "2024-04-27T23:46:03.172054Z",
          "iopub.status.idle": "2024-04-27T23:46:08.746484Z",
          "shell.execute_reply": "2024-04-27T23:46:08.745255Z",
          "shell.execute_reply.started": "2024-04-27T23:46:03.172366Z"
        },
        "id": "znreYvqaoNOG",
        "outputId": "1fac9112-e5a1-4cd6-a4be-e735faa3dcb3",
        "trusted": true
      },
      "outputs": [
        {
          "name": "stderr",
          "output_type": "stream",
          "text": [
            "[nltk_data] Downloading package wordnet to\n",
            "[nltk_data]     /kaggle/working/nltk_data/...\n",
            "[nltk_data]   Package wordnet is already up-to-date!\n",
            "[nltk_data] Downloading package omw-1.4 to\n",
            "[nltk_data]     /kaggle/working/nltk_data/...\n",
            "[nltk_data]   Package omw-1.4 is already up-to-date!\n",
            "'unzip' is not recognized as an internal or external command,\n",
            "operable program or batch file.\n",
            "'unzip' is not recognized as an internal or external command,\n",
            "operable program or batch file.\n"
          ]
        }
      ],
      "source": [
        "import re\n",
        "import nltk\n",
        "from nltk.tokenize import word_tokenize\n",
        "from nltk.corpus import stopwords\n",
        "from nltk.stem import WordNetLemmatizer\n",
        "import numpy as np\n",
        "nltk.download('wordnet', \"/kaggle/working/nltk_data/\")\n",
        "nltk.download('omw-1.4', \"/kaggle/working/nltk_data/\")\n",
        "! unzip /kaggle/working/nltk_data/corpora/wordnet.zip -d /kaggle/working/nltk_data/corpora\n",
        "! unzip /kaggle/working/nltk_data/corpora/omw-1.4.zip -d /kaggle/working/nltk_data/corpora\n",
        "nltk.data.path.append(\"/kaggle/working/nltk_data/\")"
      ]
    },
    {
      "cell_type": "markdown",
      "metadata": {
        "id": "5RjWwyvmoNOG"
      },
      "source": [
        "- this function for cleaning the text:"
      ]
    },
    {
      "cell_type": "code",
      "execution_count": 17,
      "metadata": {
        "colab": {
          "base_uri": "https://localhost:8080/"
        },
        "id": "kq2aQaRCqA1L",
        "outputId": "1fa3b73c-f366-4cb7-ef24-f7e0bcf68c13"
      },
      "outputs": [
        {
          "name": "stderr",
          "output_type": "stream",
          "text": [
            "[nltk_data] Downloading package punkt to\n",
            "[nltk_data]     C:\\Users\\USER\\AppData\\Roaming\\nltk_data...\n",
            "[nltk_data]   Package punkt is already up-to-date!\n",
            "[nltk_data] Downloading package stopwords to\n",
            "[nltk_data]     C:\\Users\\USER\\AppData\\Roaming\\nltk_data...\n",
            "[nltk_data]   Package stopwords is already up-to-date!\n"
          ]
        },
        {
          "data": {
            "text/plain": [
              "True"
            ]
          },
          "execution_count": 17,
          "metadata": {},
          "output_type": "execute_result"
        }
      ],
      "source": [
        "nltk.download('punkt')\n",
        "nltk.download('stopwords')"
      ]
    },
    {
      "cell_type": "code",
      "execution_count": 18,
      "metadata": {
        "colab": {
          "base_uri": "https://localhost:8080/"
        },
        "id": "Tgat0p8Ysa5B",
        "outputId": "4f99b3c8-b4dc-48b3-b47e-9a04b5e60cf8"
      },
      "outputs": [
        {
          "name": "stdout",
          "output_type": "stream",
          "text": [
            "6\n"
          ]
        }
      ],
      "source": [
        "max_length = max(len(sentence) for sentence in training)\n",
        "print(max_length)"
      ]
    },
    {
      "cell_type": "code",
      "execution_count": 19,
      "metadata": {
        "colab": {
          "base_uri": "https://localhost:8080/"
        },
        "execution": {
          "iopub.execute_input": "2024-04-27T23:46:08.749657Z",
          "iopub.status.busy": "2024-04-27T23:46:08.748639Z",
          "iopub.status.idle": "2024-04-27T23:46:08.759442Z",
          "shell.execute_reply": "2024-04-27T23:46:08.758338Z",
          "shell.execute_reply.started": "2024-04-27T23:46:08.749606Z"
        },
        "id": "RUAyTUqRoNOG",
        "outputId": "4e4572b7-809a-4062-8306-608cda9b0948",
        "trusted": true
      },
      "outputs": [
        {
          "name": "stderr",
          "output_type": "stream",
          "text": [
            "[nltk_data] Downloading package punkt to\n",
            "[nltk_data]     C:\\Users\\USER\\AppData\\Roaming\\nltk_data...\n",
            "[nltk_data]   Package punkt is already up-to-date!\n",
            "[nltk_data] Downloading package wordnet to\n",
            "[nltk_data]     C:\\Users\\USER\\AppData\\Roaming\\nltk_data...\n",
            "[nltk_data]   Package wordnet is already up-to-date!\n",
            "[nltk_data] Downloading package stopwords to\n",
            "[nltk_data]     C:\\Users\\USER\\AppData\\Roaming\\nltk_data...\n",
            "[nltk_data]   Package stopwords is already up-to-date!\n"
          ]
        }
      ],
      "source": [
        "import nltk\n",
        "from nltk.tokenize import word_tokenize\n",
        "from nltk.corpus import stopwords\n",
        "from nltk.stem import WordNetLemmatizer\n",
        "from nltk.stem import PorterStemmer\n",
        "import string\n",
        "\n",
        "nltk.download('punkt')\n",
        "nltk.download('wordnet')\n",
        "nltk.download('stopwords')\n",
        "\n",
        "def process_text(text):\n",
        "    text = re.sub(r'\\s+', ' ', text, flags=re.I) # Remove extra white space from text and case insenstive\n",
        "\n",
        "    text = re.sub(r'\\W', ' ', str(text)) # Remove all the special characters from text\n",
        "\n",
        "    text = re.sub(r'\\s+[a-zA-Z]\\s+', ' ', text) # Remove all single characters from text\n",
        "\n",
        "    text = re.sub(r'[^a-zA-Z\\s]', '', text) # Remove any character that isn't alphabetical\n",
        "\n",
        "    text = text.lower()\n",
        "\n",
        "    words = word_tokenize(text)\n",
        "\n",
        "    lemmatizer = WordNetLemmatizer()\n",
        "    words = [lemmatizer.lemmatize(word) for word in words]\n",
        "\n",
        "    stop_words = set(stopwords.words(\"english\"))\n",
        "    Words = [word for word in words if word not in stop_words]\n",
        "\n",
        "    Words = [word for word in Words if len(word) > 3]\n",
        "\n",
        "    indices = np.unique(Words, return_index=True)[1]\n",
        "    cleaned_text = np.array(Words)[np.sort(indices)].tolist()\n",
        "\n",
        "    return cleaned_text"
      ]
    },
    {
      "cell_type": "code",
      "execution_count": 20,
      "metadata": {
        "id": "6IE9A0M2yCyu"
      },
      "outputs": [],
      "source": [
        "x=training.drop('labels',axis=1)\n",
        "y=training.labels"
      ]
    },
    {
      "cell_type": "code",
      "execution_count": 21,
      "metadata": {
        "execution": {
          "iopub.execute_input": "2024-04-27T23:46:08.785370Z",
          "iopub.status.busy": "2024-04-27T23:46:08.785057Z",
          "iopub.status.idle": "2024-04-27T23:46:08.804709Z",
          "shell.execute_reply": "2024-04-27T23:46:08.803490Z",
          "shell.execute_reply.started": "2024-04-27T23:46:08.785343Z"
        },
        "id": "eGUEKpf0oNOH",
        "trusted": true
      },
      "outputs": [],
      "source": [
        "texts=list(x['text'])"
      ]
    },
    {
      "cell_type": "code",
      "execution_count": 22,
      "metadata": {
        "execution": {
          "iopub.execute_input": "2024-04-27T23:46:08.806699Z",
          "iopub.status.busy": "2024-04-27T23:46:08.806348Z",
          "iopub.status.idle": "2024-04-27T23:47:04.651387Z",
          "shell.execute_reply": "2024-04-27T23:47:04.650311Z",
          "shell.execute_reply.started": "2024-04-27T23:46:08.806672Z"
        },
        "id": "RJ5LzN6XoNOH",
        "trusted": true
      },
      "outputs": [],
      "source": [
        "cleaned_text = [process_text(text) for text in texts]"
      ]
    },
    {
      "cell_type": "code",
      "execution_count": 23,
      "metadata": {
        "colab": {
          "base_uri": "https://localhost:8080/"
        },
        "execution": {
          "iopub.execute_input": "2024-04-27T23:47:04.654094Z",
          "iopub.status.busy": "2024-04-27T23:47:04.653479Z",
          "iopub.status.idle": "2024-04-27T23:47:04.660664Z",
          "shell.execute_reply": "2024-04-27T23:47:04.659227Z",
          "shell.execute_reply.started": "2024-04-27T23:47:04.654048Z"
        },
        "id": "KV8oQrIgoNOH",
        "outputId": "f9b37269-0485-42a5-9edb-28efbb9eef30",
        "trusted": true
      },
      "outputs": [
        {
          "name": "stdout",
          "output_type": "stream",
          "text": [
            "[['coming', 'border', 'kill'], ['getting', 'borderland', 'kill'], ['coming', 'borderland', 'murder'], ['getting', 'borderland', 'murder'], ['getting', 'borderland', 'murder'], ['spent', 'hour', 'making', 'something', 'know', 'huge', 'borderland', 'maya', 'favorite', 'character', 'decided', 'make', 'wallpaper', 'original', 'image', 'versus', 'creation', 'made', 'enjoy', 'twitter', 'mlsiwfjg'], ['spent', 'couple', 'hour', 'something', 'know', 'huge', 'borderland', 'maya', 'favorite', 'character', 'decided', 'make', 'wallpaper', 'original', 'picture', 'compared', 'creation', 'made', 'twitter', 'mlsiwfjg'], ['spent', 'hour', 'something', 'know', 'huge', 'borderland', 'maya', 'favorite', 'character'], ['spent', 'hour', 'making', 'something', 'know', 'huge', 'rhandlerr', 'maya', 'favorite', 'character', 'decided', 'make', 'wallpaper', 'original', 'image', 'versus', 'creation', 'made', 'enjoy', 'twitter', 'mlsiwfjg'], ['spent', 'hour', 'making', 'something', 'know', 'huge', 'rhandlerr', 'maya', 'favorite', 'character', 'decided', 'make', 'wallpaper', 'original', 'image', 'versus', 'creation', 'made', 'enjoy', 'twitter', 'mlsiwfjg']]\n"
          ]
        }
      ],
      "source": [
        "print(cleaned_text[:10])"
      ]
    },
    {
      "cell_type": "markdown",
      "metadata": {
        "id": "g3DPIwUYoNOH"
      },
      "source": [
        "- prepare the data to the model:"
      ]
    },
    {
      "cell_type": "code",
      "execution_count": 24,
      "metadata": {
        "colab": {
          "base_uri": "https://localhost:8080/"
        },
        "id": "h4Ko6ztAI_xV",
        "outputId": "6988bad4-a905-44cc-9e6f-4a447037ba24"
      },
      "outputs": [
        {
          "name": "stdout",
          "output_type": "stream",
          "text": [
            "6\n"
          ]
        }
      ],
      "source": [
        "max_length = max(len(sentence) for sentence in training)\n",
        "print(max_length)"
      ]
    },
    {
      "cell_type": "code",
      "execution_count": 26,
      "metadata": {
        "id": "bYUn_NQkxeBV"
      },
      "outputs": [],
      "source": [
        "from sklearn.model_selection import train_test_split\n",
        "X_train, X_test, y_train, y_test = train_test_split(cleaned_text, y, test_size=0.2, random_state=42)"
      ]
    },
    {
      "cell_type": "code",
      "execution_count": 27,
      "metadata": {
        "colab": {
          "base_uri": "https://localhost:8080/"
        },
        "id": "_HhYXrUE040z",
        "outputId": "c4e6f8ae-dc4e-4e5e-946d-910634e88fa4"
      },
      "outputs": [
        {
          "name": "stdout",
          "output_type": "stream",
          "text": [
            "the size of vocab = 23664\n"
          ]
        }
      ],
      "source": [
        "from tensorflow.keras.preprocessing.text import Tokenizer\n",
        "from tensorflow.keras.preprocessing.sequence import pad_sequences\n",
        "import pickle\n",
        "\n",
        "max_vocab = 20000\n",
        "tokenizer = Tokenizer(num_words=max_vocab)\n",
        "tokenizer.fit_on_texts(X_train)\n",
        "\n",
        "# Save the tokenizer to a file\n",
        "with open('tokenizer.pickle', 'wb') as handle:\n",
        "    pickle.dump(tokenizer, handle, protocol=pickle.HIGHEST_PROTOCOL)\n",
        "\n",
        "\n",
        "word_idx = tokenizer.word_index  # Corrected syntax for accessing word index\n",
        "v = len(word_idx)\n",
        "print(\"the size of vocab =\", v)  # Corrected spacing\n",
        "X_train = tokenizer.texts_to_sequences(X_train)\n",
        "X_test = tokenizer.texts_to_sequences(X_test)"
      ]
    },
    {
      "cell_type": "code",
      "execution_count": 28,
      "metadata": {
        "id": "1vTYJMHb07JA"
      },
      "outputs": [],
      "source": [
        "from tensorflow.keras.preprocessing.sequence import pad_sequences\n",
        "\n",
        "maxlen = 6\n",
        "X_train = pad_sequences(X_train,maxlen=maxlen)\n",
        "X_test = pad_sequences(X_test,maxlen=maxlen)"
      ]
    },
    {
      "cell_type": "markdown",
      "metadata": {
        "id": "g-Si2PQ6oNOH"
      },
      "source": [
        "- build the model"
      ]
    },
    {
      "cell_type": "code",
      "execution_count": 29,
      "metadata": {
        "execution": {
          "iopub.execute_input": "2024-04-27T23:47:19.188414Z",
          "iopub.status.busy": "2024-04-27T23:47:19.188001Z",
          "iopub.status.idle": "2024-04-27T23:47:19.199669Z",
          "shell.execute_reply": "2024-04-27T23:47:19.198509Z",
          "shell.execute_reply.started": "2024-04-27T23:47:19.188377Z"
        },
        "id": "b4MPaQ8noNOH",
        "trusted": true
      },
      "outputs": [],
      "source": [
        "import tensorflow as tf\n",
        "from keras.models import Sequential\n",
        "from keras.layers import Embedding, LSTM, Dense,Input,GlobalMaxPooling1D,Dropout,Bidirectional\n",
        "from tensorflow.keras.models import Model\n",
        "from keras import optimizers\n",
        "from tensorflow.keras.optimizers import Adam\n",
        "import numpy as np\n",
        "D=6\n",
        "inputt=Input(shape=(maxlen,))"
      ]
    },
    {
      "cell_type": "code",
      "execution_count": 30,
      "metadata": {
        "execution": {
          "iopub.execute_input": "2024-04-27T23:47:19.201507Z",
          "iopub.status.busy": "2024-04-27T23:47:19.201084Z",
          "iopub.status.idle": "2024-04-27T23:47:20.466086Z",
          "shell.execute_reply": "2024-04-27T23:47:20.465048Z",
          "shell.execute_reply.started": "2024-04-27T23:47:19.201471Z"
        },
        "id": "HWHwaHOFoNOH",
        "trusted": true
      },
      "outputs": [],
      "source": [
        "x = Embedding(v+1,D)(inputt)\n",
        "x = Dropout(0.2)(x)\n",
        "x = Bidirectional(LSTM(32))(x)\n",
        "x = Dense(128, activation='relu')(x)\n",
        "x = Dense(64, activation='relu')(x)\n",
        "x = Dense(32, activation='relu')(x)\n",
        "x = Dense(4, activation='softmax')(x)\n",
        "\n",
        "model = Model(inputt, x)\n",
        "\n",
        "# Define optimizer with specified learning rate\n",
        "optimizer = Adam(learning_rate = 0.001)\n",
        "\n",
        "model.compile(optimizer=optimizer, loss='categorical_crossentropy', metrics=['accuracy'])"
      ]
    },
    {
      "cell_type": "code",
      "execution_count": 31,
      "metadata": {
        "id": "roiRvBsRxofd"
      },
      "outputs": [],
      "source": [
        "from sklearn.preprocessing import LabelEncoder\n",
        "\n",
        "label_encoder = LabelEncoder()\n",
        "y_train_encoded = label_encoder.fit_transform(y_train)\n",
        "y_test_encoded = label_encoder.transform(y_test)"
      ]
    },
    {
      "cell_type": "code",
      "execution_count": 32,
      "metadata": {
        "id": "-5sqk4Zjlcw5"
      },
      "outputs": [],
      "source": [
        "y_train_one_hot = tf.keras.utils.to_categorical(y_train_encoded)\n",
        "y_test_one_hot = tf.keras.utils.to_categorical(y_test_encoded)"
      ]
    },
    {
      "cell_type": "code",
      "execution_count": 33,
      "metadata": {
        "colab": {
          "base_uri": "https://localhost:8080/"
        },
        "id": "CQKjKFVlwhtz",
        "outputId": "9ace006f-7068-48c3-b7e9-e3771093cabf"
      },
      "outputs": [
        {
          "name": "stdout",
          "output_type": "stream",
          "text": [
            "Epoch 1/25\n",
            "1745/1745 [==============================] - 9s 4ms/step - loss: 1.0814 - accuracy: 0.5376 - val_loss: 0.8566 - val_accuracy: 0.6728\n",
            "Epoch 2/25\n",
            "1745/1745 [==============================] - 6s 3ms/step - loss: 0.7273 - accuracy: 0.7230 - val_loss: 0.7052 - val_accuracy: 0.7369\n",
            "Epoch 3/25\n",
            "1745/1745 [==============================] - 6s 3ms/step - loss: 0.6021 - accuracy: 0.7729 - val_loss: 0.6476 - val_accuracy: 0.7609\n",
            "Epoch 4/25\n",
            "1745/1745 [==============================] - 6s 3ms/step - loss: 0.5449 - accuracy: 0.7934 - val_loss: 0.6142 - val_accuracy: 0.7813\n",
            "Epoch 5/25\n",
            "1745/1745 [==============================] - 6s 3ms/step - loss: 0.4946 - accuracy: 0.8135 - val_loss: 0.5773 - val_accuracy: 0.7915\n",
            "Epoch 6/25\n",
            "1745/1745 [==============================] - 6s 3ms/step - loss: 0.4547 - accuracy: 0.8279 - val_loss: 0.5609 - val_accuracy: 0.7988\n",
            "Epoch 7/25\n",
            "1745/1745 [==============================] - 6s 3ms/step - loss: 0.4281 - accuracy: 0.8375 - val_loss: 0.5516 - val_accuracy: 0.8031\n",
            "Epoch 8/25\n",
            "1745/1745 [==============================] - 6s 3ms/step - loss: 0.4089 - accuracy: 0.8438 - val_loss: 0.5496 - val_accuracy: 0.8088\n",
            "Epoch 9/25\n",
            "1745/1745 [==============================] - 6s 3ms/step - loss: 0.3905 - accuracy: 0.8506 - val_loss: 0.5548 - val_accuracy: 0.8059\n",
            "Epoch 10/25\n",
            "1745/1745 [==============================] - 6s 3ms/step - loss: 0.3796 - accuracy: 0.8538 - val_loss: 0.5494 - val_accuracy: 0.8104\n",
            "Epoch 11/25\n",
            "1745/1745 [==============================] - 6s 3ms/step - loss: 0.3674 - accuracy: 0.8566 - val_loss: 0.5455 - val_accuracy: 0.8157\n",
            "Epoch 12/25\n",
            "1745/1745 [==============================] - 5s 3ms/step - loss: 0.3596 - accuracy: 0.8601 - val_loss: 0.5390 - val_accuracy: 0.8208\n",
            "Epoch 13/25\n",
            "1745/1745 [==============================] - 5s 3ms/step - loss: 0.3504 - accuracy: 0.8648 - val_loss: 0.5327 - val_accuracy: 0.8180\n",
            "Epoch 14/25\n",
            "1745/1745 [==============================] - 5s 3ms/step - loss: 0.3435 - accuracy: 0.8660 - val_loss: 0.5487 - val_accuracy: 0.8182\n",
            "Epoch 15/25\n",
            "1745/1745 [==============================] - 5s 3ms/step - loss: 0.3336 - accuracy: 0.8699 - val_loss: 0.5491 - val_accuracy: 0.8218\n",
            "Epoch 16/25\n",
            "1745/1745 [==============================] - 5s 3ms/step - loss: 0.3322 - accuracy: 0.8708 - val_loss: 0.5456 - val_accuracy: 0.8240\n",
            "Epoch 17/25\n",
            "1745/1745 [==============================] - 5s 3ms/step - loss: 0.3263 - accuracy: 0.8711 - val_loss: 0.5521 - val_accuracy: 0.8235\n",
            "Epoch 18/25\n",
            "1745/1745 [==============================] - 5s 3ms/step - loss: 0.3202 - accuracy: 0.8748 - val_loss: 0.5381 - val_accuracy: 0.8312\n",
            "Epoch 19/25\n",
            "1745/1745 [==============================] - 5s 3ms/step - loss: 0.3152 - accuracy: 0.8769 - val_loss: 0.5434 - val_accuracy: 0.8278\n",
            "Epoch 20/25\n",
            "1745/1745 [==============================] - 5s 3ms/step - loss: 0.3120 - accuracy: 0.8780 - val_loss: 0.5388 - val_accuracy: 0.8264\n",
            "Epoch 21/25\n",
            "1745/1745 [==============================] - 5s 3ms/step - loss: 0.3077 - accuracy: 0.8797 - val_loss: 0.5386 - val_accuracy: 0.8279\n",
            "Epoch 22/25\n",
            "1745/1745 [==============================] - 5s 3ms/step - loss: 0.3067 - accuracy: 0.8793 - val_loss: 0.5654 - val_accuracy: 0.8269\n",
            "Epoch 23/25\n",
            "1745/1745 [==============================] - 5s 3ms/step - loss: 0.3015 - accuracy: 0.8825 - val_loss: 0.5346 - val_accuracy: 0.8299\n",
            "Epoch 24/25\n",
            "1745/1745 [==============================] - 5s 3ms/step - loss: 0.2950 - accuracy: 0.8841 - val_loss: 0.5594 - val_accuracy: 0.8299\n",
            "Epoch 25/25\n",
            "1745/1745 [==============================] - 5s 3ms/step - loss: 0.2934 - accuracy: 0.8853 - val_loss: 0.5375 - val_accuracy: 0.8324\n"
          ]
        }
      ],
      "source": [
        "history = model.fit(X_train,\n",
        "                    y_train_one_hot,\n",
        "                    epochs=25,\n",
        "                    validation_data=(X_test, y_test_one_hot),)"
      ]
    },
    {
      "cell_type": "code",
      "execution_count": 34,
      "metadata": {},
      "outputs": [
        {
          "name": "stdout",
          "output_type": "stream",
          "text": [
            "Model: \"model\"\n",
            "_________________________________________________________________\n",
            " Layer (type)                Output Shape              Param #   \n",
            "=================================================================\n",
            " input_1 (InputLayer)        [(None, 6)]               0         \n",
            "                                                                 \n",
            " embedding (Embedding)       (None, 6, 6)              141990    \n",
            "                                                                 \n",
            " dropout (Dropout)           (None, 6, 6)              0         \n",
            "                                                                 \n",
            " bidirectional (Bidirectiona  (None, 64)               9984      \n",
            " l)                                                              \n",
            "                                                                 \n",
            " dense (Dense)               (None, 128)               8320      \n",
            "                                                                 \n",
            " dense_1 (Dense)             (None, 64)                8256      \n",
            "                                                                 \n",
            " dense_2 (Dense)             (None, 32)                2080      \n",
            "                                                                 \n",
            " dense_3 (Dense)             (None, 4)                 132       \n",
            "                                                                 \n",
            "=================================================================\n",
            "Total params: 170,762\n",
            "Trainable params: 170,762\n",
            "Non-trainable params: 0\n",
            "_________________________________________________________________\n"
          ]
        }
      ],
      "source": [
        "model.summary()"
      ]
    },
    {
      "cell_type": "code",
      "execution_count": 38,
      "metadata": {},
      "outputs": [],
      "source": [
        "model.save('model.h5')"
      ]
    },
    {
      "cell_type": "code",
      "execution_count": 40,
      "metadata": {},
      "outputs": [
        {
          "name": "stdout",
          "output_type": "stream",
          "text": [
            "Model: \"model\"\n",
            "_________________________________________________________________\n",
            " Layer (type)                Output Shape              Param #   \n",
            "=================================================================\n",
            " input_1 (InputLayer)        [(None, 6)]               0         \n",
            "                                                                 \n",
            " embedding (Embedding)       (None, 6, 6)              141990    \n",
            "                                                                 \n",
            " dropout (Dropout)           (None, 6, 6)              0         \n",
            "                                                                 \n",
            " bidirectional (Bidirectiona  (None, 64)               9984      \n",
            " l)                                                              \n",
            "                                                                 \n",
            " dense (Dense)               (None, 128)               8320      \n",
            "                                                                 \n",
            " dense_1 (Dense)             (None, 64)                8256      \n",
            "                                                                 \n",
            " dense_2 (Dense)             (None, 32)                2080      \n",
            "                                                                 \n",
            " dense_3 (Dense)             (None, 4)                 132       \n",
            "                                                                 \n",
            "=================================================================\n",
            "Total params: 170,762\n",
            "Trainable params: 170,762\n",
            "Non-trainable params: 0\n",
            "_________________________________________________________________\n"
          ]
        }
      ],
      "source": [
        "from keras.models import load_model\n",
        "savedModel=load_model('model.h5')\n",
        "savedModel.summary()"
      ]
    }
  ],
  "metadata": {
    "accelerator": "GPU",
    "colab": {
      "gpuType": "T4",
      "provenance": []
    },
    "kaggle": {
      "accelerator": "gpu",
      "dataSources": [
        {
          "datasetId": 1520310,
          "sourceId": 2510329,
          "sourceType": "datasetVersion"
        }
      ],
      "dockerImageVersionId": 30699,
      "isGpuEnabled": true,
      "isInternetEnabled": true,
      "language": "python",
      "sourceType": "notebook"
    },
    "kernelspec": {
      "display_name": "Python 3",
      "name": "python3"
    },
    "language_info": {
      "codemirror_mode": {
        "name": "ipython",
        "version": 3
      },
      "file_extension": ".py",
      "mimetype": "text/x-python",
      "name": "python",
      "nbconvert_exporter": "python",
      "pygments_lexer": "ipython3",
      "version": "3.11.9"
    }
  },
  "nbformat": 4,
  "nbformat_minor": 0
}
